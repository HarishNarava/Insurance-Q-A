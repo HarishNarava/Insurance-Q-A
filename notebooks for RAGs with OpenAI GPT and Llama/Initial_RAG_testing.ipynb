{
 "cells": [
  {
   "cell_type": "code",
   "execution_count": 1,
   "metadata": {},
   "outputs": [],
   "source": [
    "from langchain import OpenAI\n",
    "from langchain.chains import RetrievalQAWithSourcesChain\n",
    "from langchain.text_splitter import RecursiveCharacterTextSplitter\n",
    "from langchain.document_loaders import UnstructuredURLLoader\n",
    "from langchain.embeddings import OpenAIEmbeddings\n",
    "from langchain.vectorstores import FAISS\n",
    "import langchain\n",
    "import pickle\n",
    "import time"
   ]
  },
  {
   "cell_type": "code",
   "execution_count": null,
   "metadata": {},
   "outputs": [],
   "source": [
    "import os\n",
    "# Set OpenAI API Key\n",
    "os.environ[\"OPENAI_API_KEY\"] = \"\"\n",
    "os.environ[\"LLAMA_API_KEY\"]= \"\""
   ]
  },
  {
   "cell_type": "code",
   "execution_count": null,
   "metadata": {},
   "outputs": [
    {
     "name": "stderr",
     "output_type": "stream",
     "text": [
      "C:\\Users\\Harish\\AppData\\Local\\Temp\\ipykernel_15104\\203484346.py:1: LangChainDeprecationWarning: The class `OpenAI` was deprecated in LangChain 0.0.10 and will be removed in 1.0. An updated version of the class exists in the langchain-openai package and should be used instead. To use it run `pip install -U langchain-openai` and import as `from langchain_openai import OpenAI`.\n",
      "  llm = OpenAI(temperature = 0.3, max_tokens=500)\n"
     ]
    }
   ],
   "source": [
    "llm = OpenAI(temperature = 0.3, max_tokens=500)"
   ]
  },
  {
   "cell_type": "code",
   "execution_count": 4,
   "metadata": {},
   "outputs": [
    {
     "name": "stderr",
     "output_type": "stream",
     "text": [
      "<>:4: SyntaxWarning: invalid escape sequence '\\L'\n",
      "<>:4: SyntaxWarning: invalid escape sequence '\\L'\n",
      "C:\\Users\\Harish\\AppData\\Local\\Temp\\ipykernel_15104\\2826097029.py:4: SyntaxWarning: invalid escape sequence '\\L'\n",
      "  file_path = \"D:\\LLMs\\FProject_2\\data\\insurance.csv\"\n"
     ]
    }
   ],
   "source": [
    "from langchain.document_loaders import CSVLoader\n",
    "\n",
    "# Path to your CSV file\n",
    "file_path = \"D:\\LLMs\\FProject_2\\data\\insurance.csv\" \n",
    "\n",
    "# Load the CSV using CSVLoader\n",
    "loader = CSVLoader(file_path=file_path,encoding=\"utf-8\")\n",
    "\n"
   ]
  },
  {
   "cell_type": "code",
   "execution_count": 5,
   "metadata": {},
   "outputs": [],
   "source": [
    "data = loader.load()"
   ]
  },
  {
   "cell_type": "code",
   "execution_count": 6,
   "metadata": {},
   "outputs": [
    {
     "data": {
      "text/plain": [
       "107"
      ]
     },
     "execution_count": 6,
     "metadata": {},
     "output_type": "execute_result"
    }
   ],
   "source": [
    "len(data)"
   ]
  },
  {
   "cell_type": "code",
   "execution_count": null,
   "metadata": {},
   "outputs": [],
   "source": [
    "text_splitter = RecursiveCharacterTextSplitter(\n",
    "    chunk_size = 300,\n",
    "    chunk_overlap = 100\n",
    ")\n",
    "\n",
    "docs = text_splitter.split_documents(data)"
   ]
  },
  {
   "cell_type": "code",
   "execution_count": 8,
   "metadata": {},
   "outputs": [
    {
     "data": {
      "text/plain": [
       "161"
      ]
     },
     "execution_count": 8,
     "metadata": {},
     "output_type": "execute_result"
    }
   ],
   "source": [
    "len(docs)"
   ]
  },
  {
   "cell_type": "code",
   "execution_count": 9,
   "metadata": {},
   "outputs": [
    {
     "name": "stderr",
     "output_type": "stream",
     "text": [
      "C:\\Users\\Harish\\AppData\\Local\\Temp\\ipykernel_15104\\1681419414.py:2: LangChainDeprecationWarning: The class `OpenAIEmbeddings` was deprecated in LangChain 0.0.9 and will be removed in 1.0. An updated version of the class exists in the langchain-openai package and should be used instead. To use it run `pip install -U langchain-openai` and import as `from langchain_openai import OpenAIEmbeddings`.\n",
      "  embeddings = OpenAIEmbeddings()\n"
     ]
    }
   ],
   "source": [
    "\n",
    "# Initialize the OpenAI embeddings model\n",
    "embeddings = OpenAIEmbeddings()\n"
   ]
  },
  {
   "cell_type": "code",
   "execution_count": 13,
   "metadata": {},
   "outputs": [
    {
     "name": "stdout",
     "output_type": "stream",
     "text": [
      "Defaulting to user installation because normal site-packages is not writeable\n",
      "Collecting faiss-cpu\n",
      "  Using cached faiss_cpu-1.9.0.post1-cp312-cp312-win_amd64.whl.metadata (4.5 kB)\n",
      "Requirement already satisfied: numpy<3.0,>=1.25.0 in c:\\users\\harish\\appdata\\roaming\\python\\python312\\site-packages (from faiss-cpu) (1.26.4)\n",
      "Requirement already satisfied: packaging in c:\\users\\harish\\appdata\\roaming\\python\\python312\\site-packages (from faiss-cpu) (24.0)\n",
      "Using cached faiss_cpu-1.9.0.post1-cp312-cp312-win_amd64.whl (13.8 MB)\n",
      "Installing collected packages: faiss-cpu\n",
      "Successfully installed faiss-cpu-1.9.0.post1\n",
      "Note: you may need to restart the kernel to use updated packages.\n"
     ]
    },
    {
     "name": "stderr",
     "output_type": "stream",
     "text": [
      "\n",
      "[notice] A new release of pip is available: 24.2 -> 24.3.1\n",
      "[notice] To update, run: python.exe -m pip install --upgrade pip\n"
     ]
    }
   ],
   "source": [
    "pip install faiss-cpu"
   ]
  },
  {
   "cell_type": "code",
   "execution_count": 14,
   "metadata": {},
   "outputs": [],
   "source": [
    "# Create a FAISS vector store\n",
    "vectorstore = FAISS.from_documents(docs, embeddings)"
   ]
  },
  {
   "cell_type": "code",
   "execution_count": 15,
   "metadata": {},
   "outputs": [],
   "source": [
    "# Save the vectorstore to disk\n",
    "faiss_path = \"faiss_store_insurance_rag\"\n",
    "vectorstore.save_local(faiss_path)"
   ]
  },
  {
   "cell_type": "code",
   "execution_count": 16,
   "metadata": {},
   "outputs": [
    {
     "name": "stdout",
     "output_type": "stream",
     "text": [
      "FAISS vector database saved to faiss_store_insurance_rag\n"
     ]
    }
   ],
   "source": [
    "# Optional: Save the metadata with pickle\n",
    "with open(f\"{faiss_path}/docstore.pkl\", \"wb\") as f:\n",
    "    pickle.dump(vectorstore.docstore, f)\n",
    "\n",
    "print(f\"FAISS vector database saved to {faiss_path}\")"
   ]
  },
  {
   "cell_type": "code",
   "execution_count": null,
   "metadata": {},
   "outputs": [],
   "source": [
    "chain = RetrievalQAWithSourcesChain.from_llm (\n",
    "    llm = llm,\n",
    "    retriever = vectorstore.as_retriever()\n",
    ")"
   ]
  },
  {
   "cell_type": "code",
   "execution_count": 19,
   "metadata": {},
   "outputs": [],
   "source": [
    "query= \"What is the average life insurance cost per month?\""
   ]
  },
  {
   "cell_type": "code",
   "execution_count": 20,
   "metadata": {},
   "outputs": [
    {
     "name": "stderr",
     "output_type": "stream",
     "text": [
      "C:\\Users\\Harish\\AppData\\Local\\Temp\\ipykernel_15104\\500905448.py:2: LangChainDeprecationWarning: The method `Chain.__call__` was deprecated in langchain 0.1.0 and will be removed in 1.0. Use invoke instead.\n",
      "  chain({\"question\" :  query}, return_only_outputs = True)\n"
     ]
    },
    {
     "name": "stdout",
     "output_type": "stream",
     "text": [
      "\u001b[32;1m\u001b[1;3m[chain/start]\u001b[0m \u001b[1m[chain:RetrievalQAWithSourcesChain] Entering Chain run with input:\n",
      "\u001b[0m{\n",
      "  \"question\": \"What is the average life insurance cost per month?\"\n",
      "}\n",
      "\u001b[32;1m\u001b[1;3m[chain/start]\u001b[0m \u001b[1m[chain:RetrievalQAWithSourcesChain > chain:MapReduceDocumentsChain] Entering Chain run with input:\n",
      "\u001b[0m[inputs]\n",
      "\u001b[32;1m\u001b[1;3m[chain/start]\u001b[0m \u001b[1m[chain:RetrievalQAWithSourcesChain > chain:MapReduceDocumentsChain > chain:LLMChain] Entering Chain run with input:\n",
      "\u001b[0m{\n",
      "  \"input_list\": [\n",
      "    {\n",
      "      \"context\": \"category: Insurance\\nsubCategory: Life Insurance\\nquestion: What is the average life insurance cost per month?\\nanswer: The cost of a life insurance policy depends on the type of policy you own. Term plans are generally cheaper in nature as it only offers death benefit with no profits or returns. Traditional plans and unit-linked plans tend to cost more as they offer a wide range of benefits. The cost also depends on the sum assured i.e. a higher sum assured will cost you more and vice versa.\",\n",
      "      \"question\": \"What is the average life insurance cost per month?\"\n",
      "    },\n",
      "    {\n",
      "      \"context\": \"category: Insurance\\nsubCategory: Term Insurance\\nquestion: How much does term insurance cost?\\nanswer: The premium rates for term insurance plans depend on your age, gender, income, and even your smoking habits. Based on these factors, the prices differ from one applicant to another. For instance, for a 26-year-old male applicant who smokes with an annual salary of Rs.7 lakh, the premium price for a sum assured of Rs.1 crore is Rs.933 per month.\",\n",
      "      \"question\": \"What is the average life insurance cost per month?\"\n",
      "    },\n",
      "    {\n",
      "      \"context\": \"category: Insurance\\nsubCategory: Life Insurance\\nquestion: What’s the Average Cost of a Life Insurance Plan and what Affects the Price?\\nanswer: policyholder splits the investment income through yearly announcements of bonuses/ dividends, the policyholder will earn maturity benefits in addition to contributing to economic growth.\\nLoan Facility: People who obtain life insurance plans will have the option of borrowing money against it, which may assist them to cover unforeseen expenses as they progress through life without jeopardising the policy's benefits.\\nRedemption of Mortgage: The finest tool for covering loans and mortgages taken out by the policyholder is a life insurance policy. The insurance can be used to pay off the loan or mortgage if there is ever an unanticipated circumstance that prevents the policyholder from being able to repay his or her loan or mortgage. In this case, the grieving family members will not be responsible for repayment.\",\n",
      "      \"question\": \"What is the average life insurance cost per month?\"\n",
      "    },\n",
      "    {\n",
      "      \"context\": \"Buying the policy: To be able to buy a term insurance policy you don't need to put aside tens of thousands of rupees every year. Many of the insurance policies can offer you a sum assured of up to Rs. 1 crore for a premium that could be as little as about Rs. 10,000 per annum (These are indicative figures. The actual premiums may differ depending on the sum assured and the insurance providers).\\nKeeping the policy: Just like any other insurance policy, you pay the premium towards these policies at a frequency chosen by you. These premiums can be paid every month, every quarter, every 6 months or once a year. They can also be paid as a lump sum instead of being paid at regular intervals.\",\n",
      "      \"question\": \"What is the average life insurance cost per month?\"\n",
      "    }\n",
      "  ]\n",
      "}\n",
      "\u001b[32;1m\u001b[1;3m[llm/start]\u001b[0m \u001b[1m[chain:RetrievalQAWithSourcesChain > chain:MapReduceDocumentsChain > chain:LLMChain > llm:OpenAI] Entering LLM run with input:\n",
      "\u001b[0m{\n",
      "  \"prompts\": [\n",
      "    \"Use the following portion of a long document to see if any of the text is relevant to answer the question. \\nReturn any relevant text verbatim.\\ncategory: Insurance\\nsubCategory: Life Insurance\\nquestion: What is the average life insurance cost per month?\\nanswer: The cost of a life insurance policy depends on the type of policy you own. Term plans are generally cheaper in nature as it only offers death benefit with no profits or returns. Traditional plans and unit-linked plans tend to cost more as they offer a wide range of benefits. The cost also depends on the sum assured i.e. a higher sum assured will cost you more and vice versa.\\nQuestion: What is the average life insurance cost per month?\\nRelevant text, if any:\"\n",
      "  ]\n",
      "}\n",
      "\u001b[32;1m\u001b[1;3m[llm/start]\u001b[0m \u001b[1m[chain:RetrievalQAWithSourcesChain > chain:MapReduceDocumentsChain > chain:LLMChain > llm:OpenAI] Entering LLM run with input:\n",
      "\u001b[0m{\n",
      "  \"prompts\": [\n",
      "    \"Use the following portion of a long document to see if any of the text is relevant to answer the question. \\nReturn any relevant text verbatim.\\ncategory: Insurance\\nsubCategory: Term Insurance\\nquestion: How much does term insurance cost?\\nanswer: The premium rates for term insurance plans depend on your age, gender, income, and even your smoking habits. Based on these factors, the prices differ from one applicant to another. For instance, for a 26-year-old male applicant who smokes with an annual salary of Rs.7 lakh, the premium price for a sum assured of Rs.1 crore is Rs.933 per month.\\nQuestion: What is the average life insurance cost per month?\\nRelevant text, if any:\"\n",
      "  ]\n",
      "}\n",
      "\u001b[32;1m\u001b[1;3m[llm/start]\u001b[0m \u001b[1m[chain:RetrievalQAWithSourcesChain > chain:MapReduceDocumentsChain > chain:LLMChain > llm:OpenAI] Entering LLM run with input:\n",
      "\u001b[0m{\n",
      "  \"prompts\": [\n",
      "    \"Use the following portion of a long document to see if any of the text is relevant to answer the question. \\nReturn any relevant text verbatim.\\ncategory: Insurance\\nsubCategory: Life Insurance\\nquestion: What’s the Average Cost of a Life Insurance Plan and what Affects the Price?\\nanswer: policyholder splits the investment income through yearly announcements of bonuses/ dividends, the policyholder will earn maturity benefits in addition to contributing to economic growth.\\nLoan Facility: People who obtain life insurance plans will have the option of borrowing money against it, which may assist them to cover unforeseen expenses as they progress through life without jeopardising the policy's benefits.\\nRedemption of Mortgage: The finest tool for covering loans and mortgages taken out by the policyholder is a life insurance policy. The insurance can be used to pay off the loan or mortgage if there is ever an unanticipated circumstance that prevents the policyholder from being able to repay his or her loan or mortgage. In this case, the grieving family members will not be responsible for repayment.\\nQuestion: What is the average life insurance cost per month?\\nRelevant text, if any:\"\n",
      "  ]\n",
      "}\n",
      "\u001b[32;1m\u001b[1;3m[llm/start]\u001b[0m \u001b[1m[chain:RetrievalQAWithSourcesChain > chain:MapReduceDocumentsChain > chain:LLMChain > llm:OpenAI] Entering LLM run with input:\n",
      "\u001b[0m{\n",
      "  \"prompts\": [\n",
      "    \"Use the following portion of a long document to see if any of the text is relevant to answer the question. \\nReturn any relevant text verbatim.\\nBuying the policy: To be able to buy a term insurance policy you don't need to put aside tens of thousands of rupees every year. Many of the insurance policies can offer you a sum assured of up to Rs. 1 crore for a premium that could be as little as about Rs. 10,000 per annum (These are indicative figures. The actual premiums may differ depending on the sum assured and the insurance providers).\\nKeeping the policy: Just like any other insurance policy, you pay the premium towards these policies at a frequency chosen by you. These premiums can be paid every month, every quarter, every 6 months or once a year. They can also be paid as a lump sum instead of being paid at regular intervals.\\nQuestion: What is the average life insurance cost per month?\\nRelevant text, if any:\"\n",
      "  ]\n",
      "}\n",
      "\u001b[36;1m\u001b[1;3m[llm/end]\u001b[0m \u001b[1m[chain:RetrievalQAWithSourcesChain > chain:MapReduceDocumentsChain > chain:LLMChain > llm:OpenAI] [2.12s] Exiting LLM run with output:\n",
      "\u001b[0m{\n",
      "  \"generations\": [\n",
      "    [\n",
      "      {\n",
      "        \"text\": \" The cost of a life insurance policy depends on the type of policy you own. Term plans are generally cheaper in nature as it only offers death benefit with no profits or returns. Traditional plans and unit-linked plans tend to cost more as they offer a wide range of benefits. The cost also depends on the sum assured i.e. a higher sum assured will cost you more and vice versa.\",\n",
      "        \"generation_info\": {\n",
      "          \"finish_reason\": \"stop\",\n",
      "          \"logprobs\": null\n",
      "        },\n",
      "        \"type\": \"Generation\"\n",
      "      }\n",
      "    ]\n",
      "  ],\n",
      "  \"llm_output\": {\n",
      "    \"token_usage\": {\n",
      "      \"prompt_tokens\": 724,\n",
      "      \"total_tokens\": 992,\n",
      "      \"completion_tokens\": 268\n",
      "    },\n",
      "    \"model_name\": \"gpt-3.5-turbo-instruct\"\n",
      "  },\n",
      "  \"run\": null\n",
      "}\n",
      "\u001b[36;1m\u001b[1;3m[llm/end]\u001b[0m \u001b[1m[chain:RetrievalQAWithSourcesChain > chain:MapReduceDocumentsChain > chain:LLMChain > llm:OpenAI] [2.11s] Exiting LLM run with output:\n",
      "\u001b[0m{\n",
      "  \"generations\": [\n",
      "    [\n",
      "      {\n",
      "        \"text\": \" The premium rates for term insurance plans depend on your age, gender, income, and even your smoking habits. Based on these factors, the prices differ from one applicant to another. For instance, for a 26-year-old male applicant who smokes with an annual salary of Rs.7 lakh, the premium price for a sum assured of Rs.1 crore is Rs.933 per month.\",\n",
      "        \"generation_info\": {\n",
      "          \"finish_reason\": \"stop\",\n",
      "          \"logprobs\": null\n",
      "        },\n",
      "        \"type\": \"Generation\"\n",
      "      }\n",
      "    ]\n",
      "  ],\n",
      "  \"llm_output\": {\n",
      "    \"token_usage\": {},\n",
      "    \"model_name\": \"gpt-3.5-turbo-instruct\"\n",
      "  },\n",
      "  \"run\": null\n",
      "}\n",
      "\u001b[36;1m\u001b[1;3m[llm/end]\u001b[0m \u001b[1m[chain:RetrievalQAWithSourcesChain > chain:MapReduceDocumentsChain > chain:LLMChain > llm:OpenAI] [2.11s] Exiting LLM run with output:\n",
      "\u001b[0m{\n",
      "  \"generations\": [\n",
      "    [\n",
      "      {\n",
      "        \"text\": \" The average cost of a life insurance plan can vary depending on a variety of factors, such as the policyholder's age, health, and coverage amount. On average, a life insurance plan can cost anywhere from $50 to $200 per month. However, this cost can also be affected by the type of policy and any additional features or riders included. It is important to carefully consider all of these factors when determining the cost of a life insurance plan.\",\n",
      "        \"generation_info\": {\n",
      "          \"finish_reason\": \"stop\",\n",
      "          \"logprobs\": null\n",
      "        },\n",
      "        \"type\": \"Generation\"\n",
      "      }\n",
      "    ]\n",
      "  ],\n",
      "  \"llm_output\": {\n",
      "    \"token_usage\": {},\n",
      "    \"model_name\": \"gpt-3.5-turbo-instruct\"\n",
      "  },\n",
      "  \"run\": null\n",
      "}\n",
      "\u001b[36;1m\u001b[1;3m[llm/end]\u001b[0m \u001b[1m[chain:RetrievalQAWithSourcesChain > chain:MapReduceDocumentsChain > chain:LLMChain > llm:OpenAI] [2.11s] Exiting LLM run with output:\n",
      "\u001b[0m{\n",
      "  \"generations\": [\n",
      "    [\n",
      "      {\n",
      "        \"text\": \" \\\"These premiums can be paid every month, every quarter, every 6 months or once a year.\\\"\",\n",
      "        \"generation_info\": {\n",
      "          \"finish_reason\": \"stop\",\n",
      "          \"logprobs\": null\n",
      "        },\n",
      "        \"type\": \"Generation\"\n",
      "      }\n",
      "    ]\n",
      "  ],\n",
      "  \"llm_output\": {\n",
      "    \"token_usage\": {},\n",
      "    \"model_name\": \"gpt-3.5-turbo-instruct\"\n",
      "  },\n",
      "  \"run\": null\n",
      "}\n",
      "\u001b[36;1m\u001b[1;3m[chain/end]\u001b[0m \u001b[1m[chain:RetrievalQAWithSourcesChain > chain:MapReduceDocumentsChain > chain:LLMChain] [2.12s] Exiting Chain run with output:\n",
      "\u001b[0m{\n",
      "  \"outputs\": [\n",
      "    {\n",
      "      \"text\": \" The cost of a life insurance policy depends on the type of policy you own. Term plans are generally cheaper in nature as it only offers death benefit with no profits or returns. Traditional plans and unit-linked plans tend to cost more as they offer a wide range of benefits. The cost also depends on the sum assured i.e. a higher sum assured will cost you more and vice versa.\"\n",
      "    },\n",
      "    {\n",
      "      \"text\": \" The premium rates for term insurance plans depend on your age, gender, income, and even your smoking habits. Based on these factors, the prices differ from one applicant to another. For instance, for a 26-year-old male applicant who smokes with an annual salary of Rs.7 lakh, the premium price for a sum assured of Rs.1 crore is Rs.933 per month.\"\n",
      "    },\n",
      "    {\n",
      "      \"text\": \" The average cost of a life insurance plan can vary depending on a variety of factors, such as the policyholder's age, health, and coverage amount. On average, a life insurance plan can cost anywhere from $50 to $200 per month. However, this cost can also be affected by the type of policy and any additional features or riders included. It is important to carefully consider all of these factors when determining the cost of a life insurance plan.\"\n",
      "    },\n",
      "    {\n",
      "      \"text\": \" \\\"These premiums can be paid every month, every quarter, every 6 months or once a year.\\\"\"\n",
      "    }\n",
      "  ]\n",
      "}\n",
      "\u001b[32;1m\u001b[1;3m[chain/start]\u001b[0m \u001b[1m[chain:RetrievalQAWithSourcesChain > chain:MapReduceDocumentsChain > chain:LLMChain] Entering Chain run with input:\n",
      "\u001b[0m{\n",
      "  \"question\": \"What is the average life insurance cost per month?\",\n",
      "  \"summaries\": \"Content:  The cost of a life insurance policy depends on the type of policy you own. Term plans are generally cheaper in nature as it only offers death benefit with no profits or returns. Traditional plans and unit-linked plans tend to cost more as they offer a wide range of benefits. The cost also depends on the sum assured i.e. a higher sum assured will cost you more and vice versa.\\nSource: D:\\\\LLMs\\\\FProject_2\\\\data\\\\insurance.csv\\n\\nContent:  The premium rates for term insurance plans depend on your age, gender, income, and even your smoking habits. Based on these factors, the prices differ from one applicant to another. For instance, for a 26-year-old male applicant who smokes with an annual salary of Rs.7 lakh, the premium price for a sum assured of Rs.1 crore is Rs.933 per month.\\nSource: D:\\\\LLMs\\\\FProject_2\\\\data\\\\insurance.csv\\n\\nContent:  The average cost of a life insurance plan can vary depending on a variety of factors, such as the policyholder's age, health, and coverage amount. On average, a life insurance plan can cost anywhere from $50 to $200 per month. However, this cost can also be affected by the type of policy and any additional features or riders included. It is important to carefully consider all of these factors when determining the cost of a life insurance plan.\\nSource: D:\\\\LLMs\\\\FProject_2\\\\data\\\\insurance.csv\\n\\nContent:  \\\"These premiums can be paid every month, every quarter, every 6 months or once a year.\\\"\\nSource: D:\\\\LLMs\\\\FProject_2\\\\data\\\\insurance.csv\"\n",
      "}\n",
      "\u001b[32;1m\u001b[1;3m[llm/start]\u001b[0m \u001b[1m[chain:RetrievalQAWithSourcesChain > chain:MapReduceDocumentsChain > chain:LLMChain > llm:OpenAI] Entering LLM run with input:\n",
      "\u001b[0m{\n",
      "  \"prompts\": [\n",
      "    \"Given the following extracted parts of a long document and a question, create a final answer with references (\\\"SOURCES\\\"). \\nIf you don't know the answer, just say that you don't know. Don't try to make up an answer.\\nALWAYS return a \\\"SOURCES\\\" part in your answer.\\n\\nQUESTION: Which state/country's law governs the interpretation of the contract?\\n=========\\nContent: This Agreement is governed by English law and the parties submit to the exclusive jurisdiction of the English courts in  relation to any dispute (contractual or non-contractual) concerning this Agreement save that either party may apply to any court for an  injunction or other relief to protect its Intellectual Property Rights.\\nSource: 28-pl\\nContent: No Waiver. Failure or delay in exercising any right or remedy under this Agreement shall not constitute a waiver of such (or any other)  right or remedy.\\n\\n11.7 Severability. The invalidity, illegality or unenforceability of any term (or part of a term) of this Agreement shall not affect the continuation  in force of the remainder of the term (if any) and this Agreement.\\n\\n11.8 No Agency. Except as expressly stated otherwise, nothing in this Agreement shall create an agency, partnership or joint venture of any  kind between the parties.\\n\\n11.9 No Third-Party Beneficiaries.\\nSource: 30-pl\\nContent: (b) if Google believes, in good faith, that the Distributor has violated or caused Google to violate any Anti-Bribery Laws (as  defined in Clause 8.5) or that such a violation is reasonably likely to occur,\\nSource: 4-pl\\n=========\\nFINAL ANSWER: This Agreement is governed by English law.\\nSOURCES: 28-pl\\n\\nQUESTION: What did the president say about Michael Jackson?\\n=========\\nContent: Madam Speaker, Madam Vice President, our First Lady and Second Gentleman. Members of Congress and the Cabinet. Justices of the Supreme Court. My fellow Americans.  \\n\\nLast year COVID-19 kept us apart. This year we are finally together again. \\n\\nTonight, we meet as Democrats Republicans and Independents. But most importantly as Americans. \\n\\nWith a duty to one another to the American people to the Constitution. \\n\\nAnd with an unwavering resolve that freedom will always triumph over tyranny. \\n\\nSix days ago, Russia’s Vladimir Putin sought to shake the foundations of the free world thinking he could make it bend to his menacing ways. But he badly miscalculated. \\n\\nHe thought he could roll into Ukraine and the world would roll over. Instead he met a wall of strength he never imagined. \\n\\nHe met the Ukrainian people. \\n\\nFrom President Zelenskyy to every Ukrainian, their fearlessness, their courage, their determination, inspires the world. \\n\\nGroups of citizens blocking tanks with their bodies. Everyone from students to retirees teachers turned soldiers defending their homeland.\\nSource: 0-pl\\nContent: And we won’t stop. \\n\\nWe have lost so much to COVID-19. Time with one another. And worst of all, so much loss of life. \\n\\nLet’s use this moment to reset. Let’s stop looking at COVID-19 as a partisan dividing line and see it for what it is: A God-awful disease.  \\n\\nLet’s stop seeing each other as enemies, and start seeing each other for who we really are: Fellow Americans.  \\n\\nWe can’t change how divided we’ve been. But we can change how we move forward—on COVID-19 and other issues we must face together. \\n\\nI recently visited the New York City Police Department days after the funerals of Officer Wilbert Mora and his partner, Officer Jason Rivera. \\n\\nThey were responding to a 9-1-1 call when a man shot and killed them with a stolen gun. \\n\\nOfficer Mora was 27 years old. \\n\\nOfficer Rivera was 22. \\n\\nBoth Dominican Americans who’d grown up on the same streets they later chose to patrol as police officers. \\n\\nI spoke with their families and told them that we are forever in debt for their sacrifice, and we will carry on their mission to restore the trust and safety every community deserves.\\nSource: 24-pl\\nContent: And a proud Ukrainian people, who have known 30 years  of independence, have repeatedly shown that they will not tolerate anyone who tries to take their country backwards.  \\n\\nTo all Americans, I will be honest with you, as I’ve always promised. A Russian dictator, invading a foreign country, has costs around the world. \\n\\nAnd I’m taking robust action to make sure the pain of our sanctions  is targeted at Russia’s economy. And I will use every tool at our disposal to protect American businesses and consumers. \\n\\nTonight, I can announce that the United States has worked with 30 other countries to release 60 Million barrels of oil from reserves around the world.  \\n\\nAmerica will lead that effort, releasing 30 Million barrels from our own Strategic Petroleum Reserve. And we stand ready to do more if necessary, unified with our allies.  \\n\\nThese steps will help blunt gas prices here at home. And I know the news about what’s happening can seem alarming. \\n\\nBut I want you to know that we are going to be okay.\\nSource: 5-pl\\nContent: More support for patients and families. \\n\\nTo get there, I call on Congress to fund ARPA-H, the Advanced Research Projects Agency for Health. \\n\\nIt’s based on DARPA—the Defense Department project that led to the Internet, GPS, and so much more.  \\n\\nARPA-H will have a singular purpose—to drive breakthroughs in cancer, Alzheimer’s, diabetes, and more. \\n\\nA unity agenda for the nation. \\n\\nWe can do this. \\n\\nMy fellow Americans—tonight , we have gathered in a sacred space—the citadel of our democracy. \\n\\nIn this Capitol, generation after generation, Americans have debated great questions amid great strife, and have done great things. \\n\\nWe have fought for freedom, expanded liberty, defeated totalitarianism and terror. \\n\\nAnd built the strongest, freest, and most prosperous nation the world has ever known. \\n\\nNow is the hour. \\n\\nOur moment of responsibility. \\n\\nOur test of resolve and conscience, of history itself. \\n\\nIt is in this moment that our character is formed. Our purpose is found. Our future is forged. \\n\\nWell I know this nation.\\nSource: 34-pl\\n=========\\nFINAL ANSWER: The president did not mention Michael Jackson.\\nSOURCES:\\n\\nQUESTION: What is the average life insurance cost per month?\\n=========\\nContent:  The cost of a life insurance policy depends on the type of policy you own. Term plans are generally cheaper in nature as it only offers death benefit with no profits or returns. Traditional plans and unit-linked plans tend to cost more as they offer a wide range of benefits. The cost also depends on the sum assured i.e. a higher sum assured will cost you more and vice versa.\\nSource: D:\\\\LLMs\\\\FProject_2\\\\data\\\\insurance.csv\\n\\nContent:  The premium rates for term insurance plans depend on your age, gender, income, and even your smoking habits. Based on these factors, the prices differ from one applicant to another. For instance, for a 26-year-old male applicant who smokes with an annual salary of Rs.7 lakh, the premium price for a sum assured of Rs.1 crore is Rs.933 per month.\\nSource: D:\\\\LLMs\\\\FProject_2\\\\data\\\\insurance.csv\\n\\nContent:  The average cost of a life insurance plan can vary depending on a variety of factors, such as the policyholder's age, health, and coverage amount. On average, a life insurance plan can cost anywhere from $50 to $200 per month. However, this cost can also be affected by the type of policy and any additional features or riders included. It is important to carefully consider all of these factors when determining the cost of a life insurance plan.\\nSource: D:\\\\LLMs\\\\FProject_2\\\\data\\\\insurance.csv\\n\\nContent:  \\\"These premiums can be paid every month, every quarter, every 6 months or once a year.\\\"\\nSource: D:\\\\LLMs\\\\FProject_2\\\\data\\\\insurance.csv\\n=========\\nFINAL ANSWER:\"\n",
      "  ]\n",
      "}\n",
      "\u001b[36;1m\u001b[1;3m[llm/end]\u001b[0m \u001b[1m[chain:RetrievalQAWithSourcesChain > chain:MapReduceDocumentsChain > chain:LLMChain > llm:OpenAI] [1.53s] Exiting LLM run with output:\n",
      "\u001b[0m{\n",
      "  \"generations\": [\n",
      "    [\n",
      "      {\n",
      "        \"text\": \" The average cost of a life insurance plan can vary depending on a variety of factors, such as the policyholder's age, health, and coverage amount. On average, a life insurance plan can cost anywhere from $50 to $200 per month. However, this cost can also be affected by the type of policy and any additional features or riders included. It is important to carefully consider all of these factors when determining the cost of a life insurance plan.\\nSOURCES: D:\\\\LLMs\\\\FProject_2\\\\data\\\\insurance.csv\",\n",
      "        \"generation_info\": {\n",
      "          \"finish_reason\": \"stop\",\n",
      "          \"logprobs\": null\n",
      "        },\n",
      "        \"type\": \"Generation\"\n",
      "      }\n",
      "    ]\n",
      "  ],\n",
      "  \"llm_output\": {\n",
      "    \"token_usage\": {\n",
      "      \"prompt_tokens\": 1691,\n",
      "      \"total_tokens\": 1797,\n",
      "      \"completion_tokens\": 106\n",
      "    },\n",
      "    \"model_name\": \"gpt-3.5-turbo-instruct\"\n",
      "  },\n",
      "  \"run\": null\n",
      "}\n",
      "\u001b[36;1m\u001b[1;3m[chain/end]\u001b[0m \u001b[1m[chain:RetrievalQAWithSourcesChain > chain:MapReduceDocumentsChain > chain:LLMChain] [1.53s] Exiting Chain run with output:\n",
      "\u001b[0m{\n",
      "  \"text\": \" The average cost of a life insurance plan can vary depending on a variety of factors, such as the policyholder's age, health, and coverage amount. On average, a life insurance plan can cost anywhere from $50 to $200 per month. However, this cost can also be affected by the type of policy and any additional features or riders included. It is important to carefully consider all of these factors when determining the cost of a life insurance plan.\\nSOURCES: D:\\\\LLMs\\\\FProject_2\\\\data\\\\insurance.csv\"\n",
      "}\n",
      "\u001b[36;1m\u001b[1;3m[chain/end]\u001b[0m \u001b[1m[chain:RetrievalQAWithSourcesChain > chain:MapReduceDocumentsChain] [3.68s] Exiting Chain run with output:\n",
      "\u001b[0m{\n",
      "  \"output_text\": \" The average cost of a life insurance plan can vary depending on a variety of factors, such as the policyholder's age, health, and coverage amount. On average, a life insurance plan can cost anywhere from $50 to $200 per month. However, this cost can also be affected by the type of policy and any additional features or riders included. It is important to carefully consider all of these factors when determining the cost of a life insurance plan.\\nSOURCES: D:\\\\LLMs\\\\FProject_2\\\\data\\\\insurance.csv\"\n",
      "}\n",
      "\u001b[36;1m\u001b[1;3m[chain/end]\u001b[0m \u001b[1m[chain:RetrievalQAWithSourcesChain] [4.04s] Exiting Chain run with output:\n",
      "\u001b[0m{\n",
      "  \"answer\": \" The average cost of a life insurance plan can vary depending on a variety of factors, such as the policyholder's age, health, and coverage amount. On average, a life insurance plan can cost anywhere from $50 to $200 per month. However, this cost can also be affected by the type of policy and any additional features or riders included. It is important to carefully consider all of these factors when determining the cost of a life insurance plan.\\n\",\n",
      "  \"sources\": \"D:\\\\LLMs\\\\FProject_2\\\\data\\\\insurance.csv\"\n",
      "}\n"
     ]
    },
    {
     "data": {
      "text/plain": [
       "{'answer': \" The average cost of a life insurance plan can vary depending on a variety of factors, such as the policyholder's age, health, and coverage amount. On average, a life insurance plan can cost anywhere from $50 to $200 per month. However, this cost can also be affected by the type of policy and any additional features or riders included. It is important to carefully consider all of these factors when determining the cost of a life insurance plan.\\n\",\n",
       " 'sources': 'D:\\\\LLMs\\\\FProject_2\\\\data\\\\insurance.csv'}"
      ]
     },
     "execution_count": 20,
     "metadata": {},
     "output_type": "execute_result"
    }
   ],
   "source": [
    "langchain.debug = True\n",
    "chain({\"question\" :  query}, return_only_outputs = True)"
   ]
  }
 ],
 "metadata": {
  "kernelspec": {
   "display_name": "Python 3",
   "language": "python",
   "name": "python3"
  },
  "language_info": {
   "codemirror_mode": {
    "name": "ipython",
    "version": 3
   },
   "file_extension": ".py",
   "mimetype": "text/x-python",
   "name": "python",
   "nbconvert_exporter": "python",
   "pygments_lexer": "ipython3",
   "version": "3.12.3"
  }
 },
 "nbformat": 4,
 "nbformat_minor": 2
}
