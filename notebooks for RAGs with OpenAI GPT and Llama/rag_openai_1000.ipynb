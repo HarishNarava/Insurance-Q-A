{
 "cells": [
  {
   "cell_type": "code",
   "execution_count": null,
   "metadata": {},
   "outputs": [
    {
     "name": "stderr",
     "output_type": "stream",
     "text": [
      "C:\\Users\\Harish\\AppData\\Roaming\\Python\\Python312\\site-packages\\tqdm\\auto.py:21: TqdmWarning: IProgress not found. Please update jupyter and ipywidgets. See https://ipywidgets.readthedocs.io/en/stable/user_install.html\n",
      "  from .autonotebook import tqdm as notebook_tqdm\n"
     ]
    }
   ],
   "source": [
    "from langchain.llms import OpenAI\n",
    "from langchain.prompts import PromptTemplate\n",
    "from langchain.vectorstores import FAISS\n",
    "from langchain.embeddings import OpenAIEmbeddings\n",
    "from datasets import Dataset\n",
    "from ragas import evaluate\n",
    "from ragas.metrics import (\n",
    "    faithfulness,\n",
    "    answer_relevancy,\n",
    "    context_precision,\n",
    "    context_recall,\n",
    ")\n",
    "import pandas as pd\n",
    "from langchain.docstore.document import Document"
   ]
  },
  {
   "cell_type": "code",
   "execution_count": null,
   "metadata": {},
   "outputs": [],
   "source": [
    "import os\n",
    "# Set OpenAI API Key\n",
    "os.environ[\"OPENAI_API_KEY\"] = \"\"\n",
    "os.environ[\"HUGGINGFACEHUB_API_TOKEN\"] = \"\""
   ]
  },
  {
   "cell_type": "code",
   "execution_count": null,
   "metadata": {},
   "outputs": [
    {
     "name": "stderr",
     "output_type": "stream",
     "text": [
      "C:\\Users\\Harish\\AppData\\Local\\Temp\\ipykernel_7316\\3383554813.py:2: LangChainDeprecationWarning: The class `OpenAI` was deprecated in LangChain 0.0.10 and will be removed in 1.0. An updated version of the class exists in the langchain-openai package and should be used instead. To use it run `pip install -U langchain-openai` and import as `from langchain_openai import OpenAI`.\n",
      "  llm_gpt = OpenAI(temperature=0.5, max_tokens=1024)\n"
     ]
    }
   ],
   "source": [
    "# Defining the LLMs\n",
    "llm_gpt = OpenAI(temperature=0.5, max_tokens=1024)\n",
    "\n",
    "\n"
   ]
  },
  {
   "cell_type": "code",
   "execution_count": null,
   "metadata": {},
   "outputs": [],
   "source": [
    "# Prompt template\n",
    "template = \"\"\"Answer the question using only the provided context. Be concise and provide estimates when requested. If the context is insufficient, state that you lack enough information:\n",
    "{context}\n",
    "\n",
    "Question: {question}\n",
    "\"\"\"\n",
    "prompt = PromptTemplate(template=template, input_variables=[\"context\", \"question\"])"
   ]
  },
  {
   "cell_type": "code",
   "execution_count": null,
   "metadata": {},
   "outputs": [
    {
     "name": "stderr",
     "output_type": "stream",
     "text": [
      "<>:2: SyntaxWarning: invalid escape sequence '\\L'\n",
      "<>:2: SyntaxWarning: invalid escape sequence '\\L'\n",
      "C:\\Users\\Harish\\AppData\\Local\\Temp\\ipykernel_7316\\2661610409.py:2: SyntaxWarning: invalid escape sequence '\\L'\n",
      "  dataframe1000 = pd.read_csv(\"D:\\LLMs\\FProject_2\\insurance1000.csv\")\n"
     ]
    }
   ],
   "source": [
    "\n",
    "dataframe1000 = pd.read_csv(\"D:\\LLMs\\FProject_2\\insurance1000.csv\")"
   ]
  },
  {
   "cell_type": "code",
   "execution_count": 7,
   "metadata": {},
   "outputs": [
    {
     "name": "stdout",
     "output_type": "stream",
     "text": [
      "Index(['category', 'question', 'answer'], dtype='object')\n"
     ]
    }
   ],
   "source": [
    "print(dataframe1000.columns)\n"
   ]
  },
  {
   "cell_type": "code",
   "execution_count": 8,
   "metadata": {},
   "outputs": [],
   "source": [
    "# Prepare documents for FAISS\n",
    "documents = []\n",
    "for index, row in dataframe1000.iterrows():\n",
    "    documents.append(Document(page_content=row[\"answer\"], metadata={\"category\": row[\"category\"]}))"
   ]
  },
  {
   "cell_type": "code",
   "execution_count": 9,
   "metadata": {},
   "outputs": [
    {
     "name": "stderr",
     "output_type": "stream",
     "text": [
      "C:\\Users\\Harish\\AppData\\Local\\Temp\\ipykernel_7316\\20070093.py:2: LangChainDeprecationWarning: The class `OpenAIEmbeddings` was deprecated in LangChain 0.0.9 and will be removed in 1.0. An updated version of the class exists in the langchain-openai package and should be used instead. To use it run `pip install -U langchain-openai` and import as `from langchain_openai import OpenAIEmbeddings`.\n",
      "  embeddings = OpenAIEmbeddings()\n"
     ]
    }
   ],
   "source": [
    "# Generate embeddings and create FAISS database\n",
    "embeddings = OpenAIEmbeddings()\n",
    "vectorstore = FAISS.from_documents(documents, embeddings)"
   ]
  },
  {
   "cell_type": "code",
   "execution_count": 10,
   "metadata": {},
   "outputs": [],
   "source": [
    "# Define the retriever\n",
    "retriever = vectorstore.as_retriever(search_type=\"similarity\", search_kwargs={\"k\": 3})  # Top 3 relevant contexts\n",
    "\n"
   ]
  },
  {
   "cell_type": "code",
   "execution_count": 11,
   "metadata": {},
   "outputs": [
    {
     "name": "stderr",
     "output_type": "stream",
     "text": [
      "C:\\Users\\Harish\\AppData\\Local\\Temp\\ipykernel_7316\\1737485303.py:11: LangChainDeprecationWarning: The method `BaseRetriever.get_relevant_documents` was deprecated in langchain-core 0.1.46 and will be removed in 1.0. Use invoke instead.\n",
      "  retrieved_docs = retriever.get_relevant_documents(query)\n",
      "C:\\Users\\Harish\\AppData\\Local\\Temp\\ipykernel_7316\\1737485303.py:16: LangChainDeprecationWarning: The method `BaseLLM.__call__` was deprecated in langchain-core 0.1.7 and will be removed in 1.0. Use invoke instead.\n",
      "  gpt_output = llm_gpt(prompt.format(context=context, question=query))\n"
     ]
    }
   ],
   "source": [
    "# Generate answers using the model\n",
    "data = {\"question\": [], \"ground_truth\": [], \"answer_gpt\": [], \"contexts\": []}\n",
    "for index, row in dataframe1000.iterrows():\n",
    "    query = row[\"question\"]  # Column name for questions\n",
    "    ground_truth = row[\"answer\"]  # Column name for ground truth answers\n",
    "\n",
    "    data[\"question\"].append(query)\n",
    "    data[\"ground_truth\"].append(ground_truth)\n",
    "\n",
    "    # Retrieve relevant documents\n",
    "    retrieved_docs = retriever.get_relevant_documents(query)\n",
    "    context = \" \".join([doc.page_content for doc in retrieved_docs])\n",
    "    data[\"contexts\"].append([doc.page_content for doc in retrieved_docs])\n",
    "\n",
    "    # Run pipeline with GPT\n",
    "    gpt_output = llm_gpt(prompt.format(context=context, question=query))\n",
    "    data[\"answer_gpt\"].append(gpt_output)\n"
   ]
  },
  {
   "cell_type": "code",
   "execution_count": 12,
   "metadata": {},
   "outputs": [],
   "source": [
    "data[\"reference\"] = [\" \".join(contexts) for contexts in data[\"contexts\"]]  # Combine list into a single string"
   ]
  },
  {
   "cell_type": "code",
   "execution_count": 13,
   "metadata": {},
   "outputs": [],
   "source": [
    "# Convert data to a Dataset\n",
    "dataset = Dataset.from_dict(data)"
   ]
  },
  {
   "cell_type": "code",
   "execution_count": 14,
   "metadata": {},
   "outputs": [],
   "source": [
    "# Rename the ground_truth column to response for compatibility with RAGAs\n",
    "dataset = dataset.rename_column(\"ground_truth\", \"response\")\n"
   ]
  },
  {
   "cell_type": "code",
   "execution_count": 18,
   "metadata": {},
   "outputs": [
    {
     "name": "stderr",
     "output_type": "stream",
     "text": [
      "Evaluating: 100%|██████████| 4428/4428 [39:53<00:00,  1.85it/s] \n"
     ]
    }
   ],
   "source": [
    "# Evaluate with RAGAs\n",
    "result = evaluate(\n",
    "    dataset=dataset,\n",
    "    metrics=[\n",
    "        answer_relevancy,\n",
    "        faithfulness,\n",
    "        context_precision,\n",
    "        context_recall,\n",
    "    ],\n",
    ")\n"
   ]
  },
  {
   "cell_type": "code",
   "execution_count": 19,
   "metadata": {},
   "outputs": [
    {
     "name": "stdout",
     "output_type": "stream",
     "text": [
      "The evaluation result for the RAG system using OpenAI GPT on 1000 insurance Q&A pairs:\n"
     ]
    },
    {
     "data": {
      "text/plain": [
       "{'answer_relevancy': 0.5464, 'faithfulness': 0.6061, 'context_precision': 0.9691, 'context_recall': 0.9069}"
      ]
     },
     "execution_count": 19,
     "metadata": {},
     "output_type": "execute_result"
    }
   ],
   "source": [
    "print(\"The evaluation result for the RAG system using OpenAI GPT on 1000 insurance Q&A pairs:\")\n",
    "result"
   ]
  },
  {
   "cell_type": "code",
   "execution_count": 20,
   "metadata": {},
   "outputs": [
    {
     "name": "stdout",
     "output_type": "stream",
     "text": [
      "{'question': 'What is the average life insurance cost per month?', 'ground_truth': 'The cost of a life insurance policy depends on the type of policy you own. Term plans are generally cheaper in nature as it only offers death benefit with no profits or returns. Traditional plans and unit-linked plans tend to cost more as they offer a wide range of benefits. The cost also depends on the sum assured i.e. a higher sum assured will cost you more and vice versa.', 'answer_gpt': '\\nUnfortunately, it is impossible to give an average cost for life insurance as it varies greatly depending on multiple factors such as age, coverage amount, risk classification, and type of policy. However, for a 60-year-old individual, a 10-year term insurance policy with a coverage amount of $100,000 can range from $28 to over $100 per month, depending on their risk classification. It is important to consult with an experienced life insurance broker to determine the best coverage and price for your specific needs.', 'contexts': ['Unfortunately, it is impossible to give a guideline on what Term Life Insurance should cost, because the cost varies so much from person to person. If you buy it when young and very healthy, and lock in the rate for a very short time, you can get it for under $10/month for $100,000 of coverage. If you buy it when older or while having serious health problems, and lock in the premium for the rest of your life, the premium could be over $300/mo for that amount. To find the best price for you, go to a website that offers instant quotes and input your information. Keep in mind that these quotes will need to be followed up by a phone call to verify accuracy, or at least by clarifying your health information on the application.', 'A life insurance unit is $1,000. Life insurance is priced per unit. So if you wanted to purchase a $500,000 life insurance policy that costs $2.00 per unit, the cost of the policy would be $1000 per year, plus policy fee. Most people do not see the unit price when purchasing life insurance, but buying a child rider is a time when the unit price is often shown and you are given the chance to pick how many units you want you want in the rider.', \"There's many factors that go into the premium calculations for life insurance to say what coverage will cost for a 60 year old - it will be different for every person due to a number of factors including their age, amount of coverage they want, how long they want the coverage for, their risk classifcation, and whether they're applying with full underwriting or non-medical term coverage. At age 60, you'll have term life insurance options for 10, 15, 20, or 25 years - 30 years term insurance would not be available due to age - you would need to look at permanent programs to secure coverage longer than 25 years. If you want to consider coverage beyond 25 years, I would suggest looking at a Guaranteed Universal Life insurance policy (GUL). If you're looking for something in the $100,000, 10yr term insurance range, you could be looking at premiums as low as $28 per month (at preferred plus risk class) to over $100+ per month (if you're table-rated), it ultimately depends on the risk classification you qualify for. $250,000, 15 yr term can be as low as $82 per month or over $154 per month at standard risk class. So on and so forth. However, any numbers I quote without more details regarding your medical history will be useless. The risk classification is the MOST critical factor in determining the cost (premium) of a life insurance policy. The risk class depends on a number of factors including whether you're male or female, your medical history, prescriptions you take, your height/weight profile, any tobacco usage, family medical history, and other factors. Please keep in mind - every carrier has different underwriting guidelines, and each may offer a different risk class for a given medical profile - e.g. company A may offer preferred (featuring lower rates) and company B may only offer standard (featuring higher rates). You should always consult with an experienced life insurance broker before applying for ANY coverage. Brokers can shop the case for you among a number of insurance companies to see which one will work best for your program and help you structure a policy that will best serve your needs and your budget. I hope the information is helpful - please feel free to contact me for help and if you have any other questions. Thanks very much.\"], 'reference': \"Unfortunately, it is impossible to give a guideline on what Term Life Insurance should cost, because the cost varies so much from person to person. If you buy it when young and very healthy, and lock in the rate for a very short time, you can get it for under $10/month for $100,000 of coverage. If you buy it when older or while having serious health problems, and lock in the premium for the rest of your life, the premium could be over $300/mo for that amount. To find the best price for you, go to a website that offers instant quotes and input your information. Keep in mind that these quotes will need to be followed up by a phone call to verify accuracy, or at least by clarifying your health information on the application. A life insurance unit is $1,000. Life insurance is priced per unit. So if you wanted to purchase a $500,000 life insurance policy that costs $2.00 per unit, the cost of the policy would be $1000 per year, plus policy fee. Most people do not see the unit price when purchasing life insurance, but buying a child rider is a time when the unit price is often shown and you are given the chance to pick how many units you want you want in the rider. There's many factors that go into the premium calculations for life insurance to say what coverage will cost for a 60 year old - it will be different for every person due to a number of factors including their age, amount of coverage they want, how long they want the coverage for, their risk classifcation, and whether they're applying with full underwriting or non-medical term coverage. At age 60, you'll have term life insurance options for 10, 15, 20, or 25 years - 30 years term insurance would not be available due to age - you would need to look at permanent programs to secure coverage longer than 25 years. If you want to consider coverage beyond 25 years, I would suggest looking at a Guaranteed Universal Life insurance policy (GUL). If you're looking for something in the $100,000, 10yr term insurance range, you could be looking at premiums as low as $28 per month (at preferred plus risk class) to over $100+ per month (if you're table-rated), it ultimately depends on the risk classification you qualify for. $250,000, 15 yr term can be as low as $82 per month or over $154 per month at standard risk class. So on and so forth. However, any numbers I quote without more details regarding your medical history will be useless. The risk classification is the MOST critical factor in determining the cost (premium) of a life insurance policy. The risk class depends on a number of factors including whether you're male or female, your medical history, prescriptions you take, your height/weight profile, any tobacco usage, family medical history, and other factors. Please keep in mind - every carrier has different underwriting guidelines, and each may offer a different risk class for a given medical profile - e.g. company A may offer preferred (featuring lower rates) and company B may only offer standard (featuring higher rates). You should always consult with an experienced life insurance broker before applying for ANY coverage. Brokers can shop the case for you among a number of insurance companies to see which one will work best for your program and help you structure a policy that will best serve your needs and your budget. I hope the information is helpful - please feel free to contact me for help and if you have any other questions. Thanks very much.\"}\n"
     ]
    }
   ],
   "source": [
    "# Display the first row of stored data\n",
    "print({key: value[0] for key, value in data.items()})"
   ]
  },
  {
   "cell_type": "code",
   "execution_count": 21,
   "metadata": {},
   "outputs": [],
   "source": [
    "# Export data to CSV\n",
    "output_df = pd.DataFrame(data)\n",
    "output_df.to_csv(\"ins1000_gen.csv\", index=False)"
   ]
  },
  {
   "cell_type": "code",
   "execution_count": 22,
   "metadata": {},
   "outputs": [
    {
     "name": "stdout",
     "output_type": "stream",
     "text": [
      "GPT Output: \n",
      "Yes, a universal life insurance policy can expire if it is not maintained properly or if the policyholder chooses to cancel it. However, many universal life insurance policies come with a no-lapse guarantee, which ensures that the policy will remain in force as long as the premiums are paid. This is different from term life insurance policies, which have a set expiration date.\n"
     ]
    }
   ],
   "source": [
    "print(f\"GPT Output: {gpt_output}\")\n"
   ]
  },
  {
   "cell_type": "code",
   "execution_count": null,
   "metadata": {},
   "outputs": [],
   "source": []
  },
  {
   "cell_type": "code",
   "execution_count": null,
   "metadata": {},
   "outputs": [
    {
     "name": "stdout",
     "output_type": "stream",
     "text": [
      "Keys (columns) in the data dictionary:\n",
      "dict_keys(['question', 'ground_truth', 'answer_gpt', 'contexts', 'reference'])\n"
     ]
    }
   ],
   "source": [
    "\n",
    "print(\"Keys (columns) in the data dictionary:\")\n",
    "print(data.keys())\n"
   ]
  },
  {
   "cell_type": "code",
   "execution_count": null,
   "metadata": {},
   "outputs": [],
   "source": []
  },
  {
   "cell_type": "code",
   "execution_count": null,
   "metadata": {},
   "outputs": [],
   "source": []
  },
  {
   "cell_type": "code",
   "execution_count": null,
   "metadata": {},
   "outputs": [],
   "source": []
  }
 ],
 "metadata": {
  "kernelspec": {
   "display_name": "Python 3",
   "language": "python",
   "name": "python3"
  },
  "language_info": {
   "codemirror_mode": {
    "name": "ipython",
    "version": 3
   },
   "file_extension": ".py",
   "mimetype": "text/x-python",
   "name": "python",
   "nbconvert_exporter": "python",
   "pygments_lexer": "ipython3",
   "version": "3.12.3"
  }
 },
 "nbformat": 4,
 "nbformat_minor": 2
}
